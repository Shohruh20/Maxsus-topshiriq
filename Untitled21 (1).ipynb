{
  "nbformat": 4,
  "nbformat_minor": 0,
  "metadata": {
    "colab": {
      "provenance": []
    },
    "kernelspec": {
      "name": "python3",
      "display_name": "Python 3"
    },
    "language_info": {
      "name": "python"
    }
  },
  "cells": [
    {
      "cell_type": "code",
      "execution_count": 3,
      "metadata": {
        "colab": {
          "base_uri": "https://localhost:8080/"
        },
        "id": "Y9wrxqdRjsen",
        "outputId": "643e5408-591c-493a-e2a8-fdac02698ab8"
      },
      "outputs": [
        {
          "output_type": "stream",
          "name": "stdout",
          "text": [
            "  Date_reported Country_code      Country Continent WHO_region  New_cases  \\\n",
            "0    2020-01-05           AF  Afghanistan      Asia       EMRO        NaN   \n",
            "1    2020-01-12           AF  Afghanistan      Asia       EMRO        NaN   \n",
            "2    2020-01-19           AF  Afghanistan      Asia       EMRO        NaN   \n",
            "3    2020-01-26           AF  Afghanistan      Asia       EMRO        NaN   \n",
            "4    2020-02-02           AF  Afghanistan      Asia       EMRO        NaN   \n",
            "\n",
            "   Cumulative_cases  New_deaths  Cumulative_deaths  \n",
            "0                 0         NaN                  0  \n",
            "1                 0         NaN                  0  \n",
            "2                 0         NaN                  0  \n",
            "3                 0         NaN                  0  \n",
            "4                 0         NaN                  0  \n",
            "      Date_reported Country_code      Country Continent WHO_region  New_cases  \\\n",
            "0        2020-01-05           AF  Afghanistan      Asia       EMRO        NaN   \n",
            "1        2020-01-12           AF  Afghanistan      Asia       EMRO        NaN   \n",
            "2        2020-01-19           AF  Afghanistan      Asia       EMRO        NaN   \n",
            "3        2020-01-26           AF  Afghanistan      Asia       EMRO        NaN   \n",
            "4        2020-02-02           AF  Afghanistan      Asia       EMRO        NaN   \n",
            "...             ...          ...          ...       ...        ...        ...   \n",
            "58555    2024-08-04           ZW     Zimbabwe    Africa       AFRO        1.0   \n",
            "58556    2024-08-11           ZW     Zimbabwe    Africa       AFRO        NaN   \n",
            "58557    2024-08-18           ZW     Zimbabwe    Africa       AFRO        NaN   \n",
            "58558    2024-08-25           ZW     Zimbabwe    Africa       AFRO        NaN   \n",
            "58559    2024-09-01           ZW     Zimbabwe    Africa       AFRO        NaN   \n",
            "\n",
            "       Cumulative_cases  New_deaths  Cumulative_deaths  \n",
            "0                     0         NaN                  0  \n",
            "1                     0         NaN                  0  \n",
            "2                     0         NaN                  0  \n",
            "3                     0         NaN                  0  \n",
            "4                     0         NaN                  0  \n",
            "...                 ...         ...                ...  \n",
            "58555            266387         NaN               5740  \n",
            "58556            266387         NaN               5740  \n",
            "58557            266387         NaN               5740  \n",
            "58558            266387         NaN               5740  \n",
            "58559            266387         NaN               5740  \n",
            "\n",
            "[58560 rows x 9 columns]\n",
            "Empty DataFrame\n",
            "Columns: [Date_reported, Country_code, Country, Continent, WHO_region, New_cases, Cumulative_cases, New_deaths, Cumulative_deaths]\n",
            "Index: []\n"
          ]
        }
      ],
      "source": [
        "import pandas as pd\n",
        "\n",
        "df = pd.read_csv(\"WHO COVID-19 cases.csv\")\n",
        "print(df.head())\n",
        "\n",
        "print(df)\n",
        "filter = df[df['Cumulative_deaths'] == \"Afghanistan\"]\n",
        "print(filter)\n",
        "\n"
      ]
    },
    {
      "cell_type": "code",
      "source": [
        "print(df)\n",
        "filter = df[df['Cumulative_deaths'] == \"Armenia\"]\n",
        "print(filter)"
      ],
      "metadata": {
        "colab": {
          "base_uri": "https://localhost:8080/"
        },
        "id": "uaUjidUjml7n",
        "outputId": "cb8feff1-087e-442c-b181-bbf3badff659"
      },
      "execution_count": 4,
      "outputs": [
        {
          "output_type": "stream",
          "name": "stdout",
          "text": [
            "      Date_reported Country_code      Country Continent WHO_region  New_cases  \\\n",
            "0        2020-01-05           AF  Afghanistan      Asia       EMRO        NaN   \n",
            "1        2020-01-12           AF  Afghanistan      Asia       EMRO        NaN   \n",
            "2        2020-01-19           AF  Afghanistan      Asia       EMRO        NaN   \n",
            "3        2020-01-26           AF  Afghanistan      Asia       EMRO        NaN   \n",
            "4        2020-02-02           AF  Afghanistan      Asia       EMRO        NaN   \n",
            "...             ...          ...          ...       ...        ...        ...   \n",
            "58555    2024-08-04           ZW     Zimbabwe    Africa       AFRO        1.0   \n",
            "58556    2024-08-11           ZW     Zimbabwe    Africa       AFRO        NaN   \n",
            "58557    2024-08-18           ZW     Zimbabwe    Africa       AFRO        NaN   \n",
            "58558    2024-08-25           ZW     Zimbabwe    Africa       AFRO        NaN   \n",
            "58559    2024-09-01           ZW     Zimbabwe    Africa       AFRO        NaN   \n",
            "\n",
            "       Cumulative_cases  New_deaths  Cumulative_deaths  \n",
            "0                     0         NaN                  0  \n",
            "1                     0         NaN                  0  \n",
            "2                     0         NaN                  0  \n",
            "3                     0         NaN                  0  \n",
            "4                     0         NaN                  0  \n",
            "...                 ...         ...                ...  \n",
            "58555            266387         NaN               5740  \n",
            "58556            266387         NaN               5740  \n",
            "58557            266387         NaN               5740  \n",
            "58558            266387         NaN               5740  \n",
            "58559            266387         NaN               5740  \n",
            "\n",
            "[58560 rows x 9 columns]\n",
            "Empty DataFrame\n",
            "Columns: [Date_reported, Country_code, Country, Continent, WHO_region, New_cases, Cumulative_cases, New_deaths, Cumulative_deaths]\n",
            "Index: []\n"
          ]
        }
      ]
    }
  ]
}